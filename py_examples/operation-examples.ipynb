{
 "cells": [
  {
   "cell_type": "markdown",
   "metadata": {},
   "source": [
    "**Array** Examples (py3)"
   ]
  },
  {
   "cell_type": "code",
   "execution_count": 43,
   "metadata": {
    "collapsed": false
   },
   "outputs": [
    {
     "name": "stdout",
     "output_type": "stream",
     "text": [
      "two_dimension_array_wrong row data type is:<class 'list'>\n",
      "[[0, 2, 0], [0, 2, 0], [0, 2, 0], [0, 2, 0]]\n",
      "[[0, 2, 0], [0, 0, 0], [0, 0, 0], [0, 0, 0]]\n",
      "[[1], [], [], [5, 6, 7, 8, 9], [], []]\n",
      "The 0th value is:5\n",
      "The 1th value is:6\n",
      "The 2th value is:7\n",
      "The 3th value is:8\n",
      "The 4th value is:9\n"
     ]
    }
   ],
   "source": [
    "two_dimension_array_wrong = [[0]*3] * 4\n",
    "two_dimension_array_wrong\n",
    "#each row is a reference to a list\n",
    "print(\"two_dimension_array_wrong row data type is:{}\".format(type(two_dimension_array_wrong[1]))) \n",
    "# set value\n",
    "two_dimension_array_wrong[0][1] = 2\n",
    "# all column changed\n",
    "print(two_dimension_array_wrong)\n",
    "\n",
    "# Create by [[0] * cols for i in range(rows)]\n",
    "two_dimension_array = [[0] * 3 for i in range(4)]\n",
    "two_dimension_array[0][1] = 2\n",
    "print(two_dimension_array)\n",
    "\n",
    "outlier_indexs = [[] for i in range(6)]\n",
    "outlier_indexs[0].append(1)\n",
    "# list extend multi elements\n",
    "outlier_indexs[3].extend([5,6,7,8,9])\n",
    "print(outlier_indexs)\n",
    "# list iterate by enumerate\n",
    "for i, value in enumerate(outlier_indexs[3]):\n",
    "    print(\"The {}th value is:{}\".format(i,value))"
   ]
  },
  {
   "cell_type": "markdown",
   "metadata": {},
   "source": [
    "**DataFrame** Examples"
   ]
  },
  {
   "cell_type": "code",
   "execution_count": 14,
   "metadata": {
    "collapsed": false
   },
   "outputs": [
    {
     "name": "stdout",
     "output_type": "stream",
     "text": [
      "   col_1  col_2  col_3\n",
      "0      1      2      3\n",
      "1      2      3      4\n",
      "2      3      4      5\n"
     ]
    }
   ],
   "source": [
    "# create DataFrames\n",
    "# 1, create from dictionary\n",
    "import pandas as pd\n",
    "import numpy as np\n",
    "data = {'col_1':[1,2,3],'col_2':[2,3,4],'col_3':[3,4,5]}\n",
    "frame = pd.DataFrame(data)\n",
    "print(frame)"
   ]
  },
  {
   "cell_type": "code",
   "execution_count": 20,
   "metadata": {
    "collapsed": false
   },
   "outputs": [
    {
     "name": "stdout",
     "output_type": "stream",
     "text": [
      "[[1 2 3]\n",
      " [4 5 6]\n",
      " [7 8 9]]\n",
      "   A  B  C\n",
      "0  1  2  3\n",
      "1  4  5  6\n",
      "2  7  8  9\n"
     ]
    }
   ],
   "source": [
    "# 2, create from array\n",
    "array = np.array([[1,2,3],[4,5,6],[7,8,9]])\n",
    "print(array)\n",
    "frame_array = pd.DataFrame(array,columns=['A','B','C'])\n",
    "print(frame_array)"
   ]
  },
  {
   "cell_type": "code",
   "execution_count": null,
   "metadata": {
    "collapsed": true
   },
   "outputs": [],
   "source": []
  }
 ],
 "metadata": {
  "kernelspec": {
   "display_name": "Python 3",
   "language": "python",
   "name": "python3"
  },
  "language_info": {
   "codemirror_mode": {
    "name": "ipython",
    "version": 3
   },
   "file_extension": ".py",
   "mimetype": "text/x-python",
   "name": "python",
   "nbconvert_exporter": "python",
   "pygments_lexer": "ipython3",
   "version": "3.6.0"
  }
 },
 "nbformat": 4,
 "nbformat_minor": 2
}
