{
 "cells": [
  {
   "cell_type": "markdown",
   "metadata": {},
   "source": [
    " # 如下示例程序：\n",
    " * 数组(Array)及多维数组\n",
    " * DataFrame及其应用\n",
    " * Dictionary及其应用\n",
    " * Math Operations"
   ]
  },
  {
   "cell_type": "markdown",
   "metadata": {},
   "source": [
    "## Array Examples (py3)"
   ]
  },
  {
   "cell_type": "code",
   "execution_count": 44,
   "metadata": {
    "collapsed": false
   },
   "outputs": [
    {
     "name": "stdout",
     "output_type": "stream",
     "text": [
      "two_dimension_array_wrong row data type is:<class 'list'>\n",
      "[[0, 2, 0], [0, 2, 0], [0, 2, 0], [0, 2, 0]]\n",
      "[[0, 2, 0], [0, 0, 0], [0, 0, 0], [0, 0, 0]]\n",
      "[[1], [], [], [5, 6, 7, 8, 9], [], []]\n",
      "The 0th value is:5\n",
      "The 1th value is:6\n",
      "The 2th value is:7\n",
      "The 3th value is:8\n",
      "The 4th value is:9\n"
     ]
    }
   ],
   "source": [
    "two_dimension_array_wrong = [[0]*3] * 4\n",
    "two_dimension_array_wrong\n",
    "#each row is a reference to a list\n",
    "print(\"two_dimension_array_wrong row data type is:{}\".format(type(two_dimension_array_wrong[1]))) \n",
    "# set value\n",
    "two_dimension_array_wrong[0][1] = 2\n",
    "# all column changed\n",
    "print(two_dimension_array_wrong)\n",
    "\n",
    "# Create by [[0] * cols for i in range(rows)]\n",
    "two_dimension_array = [[0] * 3 for i in range(4)]\n",
    "two_dimension_array[0][1] = 2\n",
    "print(two_dimension_array)\n",
    "\n",
    "outlier_indexs = [[] for i in range(6)]\n",
    "outlier_indexs[0].append(1)\n",
    "# list extend multi elements\n",
    "outlier_indexs[3].extend([5,6,7,8,9])\n",
    "print(outlier_indexs)\n",
    "# list iterate by enumerate\n",
    "for i, value in enumerate(outlier_indexs[3]):\n",
    "    print(\"The {}th value is:{}\".format(i,value))"
   ]
  },
  {
   "cell_type": "code",
   "execution_count": 91,
   "metadata": {
    "collapsed": false
   },
   "outputs": [
    {
     "name": "stdout",
     "output_type": "stream",
     "text": [
      "The array:\n",
      "[['a', 'b', 'c'], ['d', 'e', 'f']]\n",
      "[['a' 'b' 'c']\n",
      " ['d' 'e' 'f']]\n",
      "3\n",
      "<class 'numpy.ndarray'>\n",
      "[LabelEncoder(), LabelEncoder(), LabelEncoder()]\n",
      "[['0' '0' '0']\n",
      " ['1' '1' '1']]\n",
      "[['a' 'b' 'c']\n",
      " ['d' 'e' 'f']]\n",
      "[[0 0 0]\n",
      " [1 1 1]]\n",
      "[['b']\n",
      " ['e']]\n"
     ]
    }
   ],
   "source": [
    "# 2 dimention array\n",
    "import numpy as np\n",
    "from sklearn import preprocessing\n",
    "\n",
    "array = []\n",
    "a1 = ['a','b','c']\n",
    "b1 = ['d','e','f']\n",
    "array.append(a1)\n",
    "array.append(b1)\n",
    "print(\"The array:\")\n",
    "print(array)\n",
    "\n",
    "full_x = array\n",
    "full_x = np.array(array)\n",
    "print(full_x)\n",
    "array = np.array(array)\n",
    "print(array.shape[1])\n",
    "print(type(array))\n",
    "\n",
    "les = []\n",
    "for i in range(array.shape[1]):\n",
    "    le = preprocessing.LabelEncoder()\n",
    "    le.fit(full_x[:,i])\n",
    "    les.append(le)\n",
    "    array[:,i] =le.transform(array[:,i])\n",
    "print(les)\n",
    "print(array)\n",
    "print(full_x)\n",
    "array = array.astype(int)\n",
    "print(array)\n",
    "\n",
    "print(full_x[..., [1]])"
   ]
  },
  {
   "cell_type": "markdown",
   "metadata": {},
   "source": [
    "## DataFrame Examples"
   ]
  },
  {
   "cell_type": "code",
   "execution_count": 63,
   "metadata": {
    "collapsed": false
   },
   "outputs": [
    {
     "name": "stdout",
     "output_type": "stream",
     "text": [
      "Init frame:\n",
      "   col_1  col_2  col_3\n",
      "0      1      2      3\n",
      "1      2      3      4\n",
      "2      3      4      5\n",
      "The df droped from initial df:\n",
      "   col_1  col_3\n",
      "0      1      3\n",
      "1      2      4\n",
      "2      3      5\n",
      "The df stay unchanged:\n",
      "   col_1  col_2  col_3\n",
      "0      1      2      3\n",
      "1      2      3      4\n",
      "2      3      4      5\n",
      "select row\n",
      "[2, 3, 4]\n"
     ]
    }
   ],
   "source": [
    "# create DataFrames\n",
    "# 1, create from dictionary\n",
    "import pandas as pd\n",
    "import numpy as np\n",
    "data = {'col_1':[1,2,3],'col_2':[2,3,4],'col_3':[3,4,5]}\n",
    "frame = pd.DataFrame(data)\n",
    "print(\"Init frame:\")\n",
    "print(frame)\n",
    "\n",
    "len(frame['col_1'].unique())\n",
    "\n",
    "new_frame = frame.drop(['col_2'], axis =1)\n",
    "print(\"The df droped from initial df:\")\n",
    "print(new_frame)\n",
    "print(\"The df stay unchanged:\")\n",
    "print(frame)\n",
    "\n",
    "print(\"select row\")\n",
    "print(frame.iloc[1].values.tolist())"
   ]
  },
  {
   "cell_type": "code",
   "execution_count": 62,
   "metadata": {
    "collapsed": false
   },
   "outputs": [
    {
     "name": "stdout",
     "output_type": "stream",
     "text": [
      "df after append new row:\n",
      "   col_1  col_2  col_3\n",
      "0      1      2      3\n",
      "1      2      3      4\n",
      "2      3      4      5\n",
      "3      4      5      6\n",
      "4      5      6      7\n"
     ]
    }
   ],
   "source": [
    "# Append to dataframe\n",
    "data_append = {'col_1':[4,5],'col_2':[5,6],'col_3':[6,7]}\n",
    "frame_append = pd.DataFrame(data_append)\n",
    "print(\"df after append new row:\")\n",
    "frame.append(frame_append,ignore_index=True)\n",
    "\n",
    "print(frame)"
   ]
  },
  {
   "cell_type": "code",
   "execution_count": 4,
   "metadata": {
    "collapsed": false
   },
   "outputs": [
    {
     "name": "stdout",
     "output_type": "stream",
     "text": [
      "[[1 2 3]\n",
      " [4 5 6]\n",
      " [7 8 9]]\n",
      "   A  B  C\n",
      "0  1  2  3\n",
      "1  4  5  6\n",
      "2  7  8  9\n"
     ]
    }
   ],
   "source": [
    "# 2, create from array\n",
    "array = np.array([[1,2,3],[4,5,6],[7,8,9]])\n",
    "print(array)\n",
    "frame_array = pd.DataFrame(array,columns=['A','B','C'])\n",
    "print(frame_array)"
   ]
  },
  {
   "cell_type": "code",
   "execution_count": null,
   "metadata": {
    "collapsed": true
   },
   "outputs": [],
   "source": []
  },
  {
   "cell_type": "code",
   "execution_count": 5,
   "metadata": {
    "collapsed": false
   },
   "outputs": [
    {
     "name": "stdout",
     "output_type": "stream",
     "text": [
      "Sum of current row 0 is 6\n",
      "Sum of current row 1 is 15\n",
      "Sum of current row 2 is 24\n"
     ]
    }
   ],
   "source": [
    "# 3，Iterate dataframe\n",
    "for index, row in frame_array.iterrows():\n",
    "    print(\"Sum of current row {} is {}\".format(index, row.sum()))"
   ]
  },
  {
   "cell_type": "code",
   "execution_count": 72,
   "metadata": {
    "collapsed": false
   },
   "outputs": [
    {
     "data": {
      "text/html": [
       "<div>\n",
       "<table border=\"1\" class=\"dataframe\">\n",
       "  <thead>\n",
       "    <tr style=\"text-align: right;\">\n",
       "      <th></th>\n",
       "      <th>data</th>\n",
       "      <th>date</th>\n",
       "    </tr>\n",
       "    <tr>\n",
       "      <th>date</th>\n",
       "      <th></th>\n",
       "      <th></th>\n",
       "    </tr>\n",
       "  </thead>\n",
       "  <tbody>\n",
       "    <tr>\n",
       "      <th>1</th>\n",
       "      <td>2.065044</td>\n",
       "      <td>2014-01-01</td>\n",
       "    </tr>\n",
       "    <tr>\n",
       "      <th>2</th>\n",
       "      <td>4.527587</td>\n",
       "      <td>2014-02-01</td>\n",
       "    </tr>\n",
       "    <tr>\n",
       "      <th>3</th>\n",
       "      <td>1.162860</td>\n",
       "      <td>2014-03-01</td>\n",
       "    </tr>\n",
       "    <tr>\n",
       "      <th>4</th>\n",
       "      <td>0.966050</td>\n",
       "      <td>2014-04-01</td>\n",
       "    </tr>\n",
       "  </tbody>\n",
       "</table>\n",
       "</div>"
      ],
      "text/plain": [
       "          data       date\n",
       "date                     \n",
       "1     2.065044 2014-01-01\n",
       "2     4.527587 2014-02-01\n",
       "3     1.162860 2014-03-01\n",
       "4     0.966050 2014-04-01"
      ]
     },
     "execution_count": 72,
     "metadata": {},
     "output_type": "execute_result"
    }
   ],
   "source": [
    "# Date Time\n",
    "date = pd.date_range('1/1/2014', periods=100)\n",
    "data = np.random.normal(0.5,2,100)\n",
    "df = pd.DataFrame({'date':date, 'data':data})\n",
    "#df = df.set_index('date')\n",
    "df.groupby(df['date'].apply(lambda x:x.month)).first()\n",
    "\n",
    "#len(df['data'].unique())"
   ]
  },
  {
   "cell_type": "code",
   "execution_count": null,
   "metadata": {
    "collapsed": true
   },
   "outputs": [],
   "source": []
  },
  {
   "cell_type": "code",
   "execution_count": 64,
   "metadata": {
    "collapsed": false
   },
   "outputs": [
    {
     "name": "stdout",
     "output_type": "stream",
     "text": [
      "                   a         b\n",
      "color food                    \n",
      "red   eggs  0.809832  0.332811\n",
      "green ham   0.555660  0.571370\n",
      "red   eggs  0.042514  0.799528\n",
      "      eggs -0.370897 -0.195957\n",
      "green ham  -0.917384  1.034452\n",
      "                   a         b\n",
      "color food                    \n",
      "green ham  -0.361724  1.605822\n",
      "red   eggs  0.481449  0.936383\n"
     ]
    }
   ],
   "source": [
    "# Aggregate\n",
    "colors = ['red','green','red','red','green']\n",
    "#colors = ['2014-05-01','2014-08-07','2014-05-12','2014-08-14','2017-02-13']\n",
    "foods = ['eggs','ham','eggs','eggs','ham']\n",
    "\n",
    "index = pd.MultiIndex.from_arrays([colors,foods],names=['color','food'])\n",
    "df = pd.DataFrame(np.random.randn(5,2),index=index)\n",
    "df.columns = ['a','b']\n",
    "#df['date']=colors\n",
    "\n",
    "#df['date']=pd.to_datetime(df['date'],format='%Y-%m-%d')\n",
    "\n",
    "print(df)\n",
    "\n",
    "grouped = df.groupby(level=['color','food'])\n",
    "#grouped = df.groupby(df['date'].apply(lambda x:x.month))\n",
    "\n",
    "aggregated = grouped.aggregate(np.sum)\n",
    "print(aggregated)\n",
    "#print(aggregated.reset_index())\n",
    "#print(aggregated.describe())\n",
    "\n",
    "#df[:,['color']]"
   ]
  },
  {
   "cell_type": "code",
   "execution_count": 47,
   "metadata": {
    "collapsed": false
   },
   "outputs": [
    {
     "name": "stdout",
     "output_type": "stream",
     "text": [
      "            score\n",
      "datetime         \n",
      "2016-08-31   7901\n",
      "2016-09-30  15020\n",
      "2016-10-31  16890\n",
      "2016-11-30  17011\n",
      "2016-12-31  17579\n",
      "2017-01-31  14793\n",
      "2017-02-28  11853\n",
      "2017-03-31  15256\n",
      "2017-04-30  16389\n",
      "2017-05-31  14822\n",
      "2017-06-30  11569\n",
      "2017-07-31  16880\n",
      "2017-08-31   8333\n"
     ]
    }
   ],
   "source": [
    "# Example:\n",
    "import pandas as pd\n",
    "import datetime\n",
    "import numpy as np\n",
    "\n",
    "# Create a datetime variable for today\n",
    "base = datetime.datetime.today()\n",
    "# Create a list variable that creates 365 days of rows of datetime values\n",
    "date_list = [base - datetime.timedelta(days=x) for x in range(0, 365)]\n",
    "\n",
    "# Create a list variable of 365 numeric values\n",
    "score_list = list(np.random.randint(low=1, high=1000, size=365))\n",
    "\n",
    "# Create an empty dataframe\n",
    "df = pd.DataFrame()\n",
    "\n",
    "# Create a column from the datetime variable\n",
    "df['datetime'] = date_list\n",
    "# Convert that column into a datetime datatype\n",
    "df['datetime'] = pd.to_datetime(df['datetime'])\n",
    "# Set the datetime column as the index\n",
    "df.index = df['datetime']\n",
    "# Create a column from the numeric score variable\n",
    "df['score'] = score_list\n",
    "\n",
    "df.head()\n",
    "\n",
    "# Group the data by month, and take the sum for each group (i.e. each month)\n",
    "print(df.resample('M').sum())"
   ]
  },
  {
   "cell_type": "markdown",
   "metadata": {},
   "source": [
    " ## **Dictionary**的使用"
   ]
  },
  {
   "cell_type": "code",
   "execution_count": 1,
   "metadata": {
    "collapsed": false
   },
   "outputs": [
    {
     "name": "stdout",
     "output_type": "stream",
     "text": [
      "key of 1 have the value as apple\n",
      "key of 2 have the value as orange\n",
      "key of 3 have the value as peach\n",
      "{1: 'cat', 2: 'orange', 3: 'peach'}\n",
      "Get with default value result: 101\n"
     ]
    }
   ],
   "source": [
    "# key in dictionary must be not mutable\n",
    "dict1 = {1:\"apple\",2:\"orange\",3: \"peach\"}\n",
    "for key, value in dict1.items():\n",
    "    print(\"key of {} have the value as {}\".format(key, value))\n",
    "\n",
    "# update a dictionary by another dictionary\n",
    "dict2 = {1:\"cat\"}\n",
    "dict1.update(dict2)\n",
    "print(dict1)\n",
    "\n",
    "# get from dictionary\n",
    "item1 = dict1.get(4,100) + 1\n",
    "print(\"Get with default value result: {}\".format(item1))"
   ]
  },
  {
   "cell_type": "code",
   "execution_count": 6,
   "metadata": {
    "collapsed": false
   },
   "outputs": [
    {
     "name": "stdout",
     "output_type": "stream",
     "text": [
      "None\n"
     ]
    }
   ],
   "source": [
    "inner_dict = {\"1_1\":\"inner_1.1\",\"1_2\":\"inner_1.2\"}\n",
    "dict1[2] = inner_dict\n",
    "print(dict1.get(5,None))"
   ]
  },
  {
   "cell_type": "code",
   "execution_count": 13,
   "metadata": {
    "collapsed": false
   },
   "outputs": [
    {
     "name": "stdout",
     "output_type": "stream",
     "text": [
      "120\n",
      "2\n",
      "a\n",
      "(('a', 120), ('b', 120), ('c', 100))\n"
     ]
    }
   ],
   "source": [
    "count = { 'a': 120, 'b': 120, 'c': 100 }\n",
    "highest = max(count.values())\n",
    "print highest\n",
    "maxs =[k for k,v in count.items() if v == highest]\n",
    "print len(maxs)\n",
    "print maxs[0]\n",
    "print tuple(sorted(count.items()))"
   ]
  },
  {
   "cell_type": "markdown",
   "metadata": {},
   "source": [
    "## Math Operations"
   ]
  },
  {
   "cell_type": "code",
   "execution_count": 45,
   "metadata": {
    "collapsed": false
   },
   "outputs": [
    {
     "name": "stdout",
     "output_type": "stream",
     "text": [
      "<class 'int'>\n",
      "Row index is: 0\n",
      "Col index is: 4\n"
     ]
    }
   ],
   "source": [
    "import math\n",
    "#　ｍｏｄ　ｉｓ　％\n",
    "count = 5 \n",
    "cols = 5\n",
    "\n",
    "plot_row_index = math.ceil(count / cols) - 1\n",
    "plot_col_index = count - plot_row_index * cols -1    \n",
    "\n",
    "print(type(plot_row_index))\n",
    "\n",
    "print(\"Row index is: {0}\".format(plot_row_index))\n",
    "\n",
    "print(\"Col index is: {0}\".format(plot_col_index))"
   ]
  },
  {
   "cell_type": "markdown",
   "metadata": {
    "collapsed": true
   },
   "source": []
  },
  {
   "cell_type": "code",
   "execution_count": null,
   "metadata": {
    "collapsed": true
   },
   "outputs": [],
   "source": []
  }
 ],
 "metadata": {
  "kernelspec": {
   "display_name": "Python 3",
   "language": "python",
   "name": "python3"
  },
  "language_info": {
   "codemirror_mode": {
    "name": "ipython",
    "version": 3
   },
   "file_extension": ".py",
   "mimetype": "text/x-python",
   "name": "python",
   "nbconvert_exporter": "python",
   "pygments_lexer": "ipython3",
   "version": "3.6.0"
  }
 },
 "nbformat": 4,
 "nbformat_minor": 2
}
