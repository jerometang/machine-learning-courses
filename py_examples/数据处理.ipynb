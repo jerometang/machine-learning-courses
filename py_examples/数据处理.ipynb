{
 "cells": [
  {
   "cell_type": "markdown",
   "metadata": {},
   "source": [
    " # 专题\n",
    " * 独热编码"
   ]
  },
  {
   "cell_type": "markdown",
   "metadata": {},
   "source": [
    "## 独热编码"
   ]
  },
  {
   "cell_type": "code",
   "execution_count": 1,
   "metadata": {
    "collapsed": false
   },
   "outputs": [
    {
     "name": "stdout",
     "output_type": "stream",
     "text": [
      "  classlabel  color  price size\n",
      "0     class1  green   10.1    M\n",
      "1     class2    red   13.5    L\n",
      "2     class1   blue   15.5   XL\n"
     ]
    }
   ],
   "source": [
    "import pandas as pd\n",
    "import numpy as np\n",
    "\n",
    "df = pd.DataFrame({'color':['green','red','blue'],\n",
    "                 'size':['M','L','XL'],\n",
    "                  'price':[10.1,13.5,15.5],\n",
    "                  'classlabel':['class1','class2','class1']})\n",
    "print(df)"
   ]
  },
  {
   "cell_type": "code",
   "execution_count": 13,
   "metadata": {
    "collapsed": true
   },
   "outputs": [],
   "source": [
    "def maping_item(df,label):\n",
    "    mapping = {value:idx for idx, value in enumerate(np.unique(df[label]))}\n",
    "    return df[label].map(mapping)\n",
    "\n",
    "def map_data(df):\n",
    "    for idx,col in enumerate(['color','size','classlabel']):\n",
    "        df[col] = maping_item(df,col)"
   ]
  },
  {
   "cell_type": "code",
   "execution_count": 14,
   "metadata": {
    "collapsed": false
   },
   "outputs": [
    {
     "name": "stdout",
     "output_type": "stream",
     "text": [
      "0\n",
      "0\n",
      "xxx\n",
      "1\n",
      "1\n",
      "xxx\n",
      "2\n",
      "2\n",
      "xxx\n",
      "   classlabel  color  price  size\n",
      "0           0      1   10.1     1\n",
      "1           1      2   13.5     0\n",
      "2           0      0   15.5     2\n"
     ]
    },
    {
     "data": {
      "text/html": [
       "<div>\n",
       "<table border=\"1\" class=\"dataframe\">\n",
       "  <thead>\n",
       "    <tr style=\"text-align: right;\">\n",
       "      <th></th>\n",
       "      <th>color</th>\n",
       "      <th>price</th>\n",
       "      <th>size</th>\n",
       "      <th>classlabel</th>\n",
       "    </tr>\n",
       "  </thead>\n",
       "  <tbody>\n",
       "    <tr>\n",
       "      <th>0</th>\n",
       "      <td>1</td>\n",
       "      <td>10.1</td>\n",
       "      <td>1</td>\n",
       "      <td>0</td>\n",
       "    </tr>\n",
       "    <tr>\n",
       "      <th>1</th>\n",
       "      <td>2</td>\n",
       "      <td>13.5</td>\n",
       "      <td>0</td>\n",
       "      <td>1</td>\n",
       "    </tr>\n",
       "    <tr>\n",
       "      <th>2</th>\n",
       "      <td>0</td>\n",
       "      <td>15.5</td>\n",
       "      <td>2</td>\n",
       "      <td>0</td>\n",
       "    </tr>\n",
       "  </tbody>\n",
       "</table>\n",
       "</div>"
      ],
      "text/plain": [
       "   color  price  size  classlabel\n",
       "0      1   10.1     1           0\n",
       "1      2   13.5     0           1\n",
       "2      0   15.5     2           0"
      ]
     },
     "execution_count": 14,
     "metadata": {},
     "output_type": "execute_result"
    }
   ],
   "source": [
    "from sklearn.preprocessing import OneHotEncoder\n",
    "from sklearn.preprocessing import LabelEncoder\n",
    "\n",
    "le = LabelEncoder()\n",
    "\n",
    "#print(le.fit_transform(df['color'].values))\n",
    "# df['color'] = maping_item(df,'color')\n",
    "# df['size'] = maping_item(df,'size')\n",
    "# df['classlabel'] = maping_item(df,'classlabel')\n",
    "\n",
    "for idx, value in enumerate(np.unique(df['color'])):\n",
    "    print(value)\n",
    "    print(idx)\n",
    "    print('xxx')\n",
    "\n",
    "map_data(df)\n",
    "\n",
    "print(df)\n",
    "# X= df[['color','size','price','classlabel']]\n",
    "# ohe = OneHotEncoder(categorical_features=[0])\n",
    "# encoded = ohe.fit_transform(df).toarray()\n",
    "# print(encoded)\n",
    "\n",
    "pd.get_dummies(df[['color','price','size','classlabel']])\n",
    "# print(dummies)\n"
   ]
  },
  {
   "cell_type": "code",
   "execution_count": null,
   "metadata": {
    "collapsed": true
   },
   "outputs": [],
   "source": []
  },
  {
   "cell_type": "code",
   "execution_count": null,
   "metadata": {
    "collapsed": true
   },
   "outputs": [],
   "source": []
  },
  {
   "cell_type": "code",
   "execution_count": null,
   "metadata": {
    "collapsed": true
   },
   "outputs": [],
   "source": []
  }
 ],
 "metadata": {
  "kernelspec": {
   "display_name": "Python 3",
   "language": "python",
   "name": "python3"
  },
  "language_info": {
   "codemirror_mode": {
    "name": "ipython",
    "version": 3
   },
   "file_extension": ".py",
   "mimetype": "text/x-python",
   "name": "python",
   "nbconvert_exporter": "python",
   "pygments_lexer": "ipython3",
   "version": "3.6.0"
  }
 },
 "nbformat": 4,
 "nbformat_minor": 2
}
