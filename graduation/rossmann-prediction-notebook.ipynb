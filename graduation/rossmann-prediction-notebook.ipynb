{
 "cells": [
  {
   "cell_type": "markdown",
   "metadata": {},
   "source": [
    "# Rossmann销售预测\n",
    "Kaggle项目地址：https://www.kaggle.com/c/rossmann-store-sales"
   ]
  },
  {
   "cell_type": "markdown",
   "metadata": {},
   "source": [
    "## 1.数据分析"
   ]
  },
  {
   "cell_type": "markdown",
   "metadata": {},
   "source": [
    "### 导入数据、预处理"
   ]
  },
  {
   "cell_type": "code",
   "execution_count": 1,
   "metadata": {},
   "outputs": [
    {
     "name": "stdout",
     "output_type": "stream",
     "text": [
      "Titles:\n",
      "['Store', 'DayOfWeek', 'Date', 'Sales', 'Customers', 'Open', 'Promo', 'StateHoliday', 'SchoolHoliday']\n",
      "[{'Customers': '0', 'Sales': '0', 'SchoolHoliday': '1', 'Open': '0', 'Date': '2013-01-01', 'DayOfWeek': '2', 'Promo': '0', 'tm_date': time.struct_time(tm_year=2013, tm_mon=1, tm_mday=1, tm_hour=0, tm_min=0, tm_sec=0, tm_wday=1, tm_yday=1, tm_isdst=-1), 'StateHoliday': 'a', 'Store': '1115'}, {'Customers': '0', 'Sales': '0', 'SchoolHoliday': '1', 'Open': '0', 'Date': '2013-01-01', 'DayOfWeek': '2', 'Promo': '0', 'tm_date': time.struct_time(tm_year=2013, tm_mon=1, tm_mday=1, tm_hour=0, tm_min=0, tm_sec=0, tm_wday=1, tm_yday=1, tm_isdst=-1), 'StateHoliday': 'a', 'Store': '1114'}, {'Customers': '0', 'Sales': '0', 'SchoolHoliday': '1', 'Open': '0', 'Date': '2013-01-01', 'DayOfWeek': '2', 'Promo': '0', 'tm_date': time.struct_time(tm_year=2013, tm_mon=1, tm_mday=1, tm_hour=0, tm_min=0, tm_sec=0, tm_wday=1, tm_yday=1, tm_isdst=-1), 'StateHoliday': 'a', 'Store': '1113'}]\n",
      "\n",
      "Titles:\n",
      "['Store', 'StoreType', 'Assortment', 'CompetitionDistance', 'CompetitionOpenSinceMonth', 'CompetitionOpenSinceYear', 'Promo2', 'Promo2SinceWeek', 'Promo2SinceYear', 'PromoInterval']\n",
      "Titles:\n",
      "['Store', 'State']\n",
      "[{'PromoInterval': '0', 'Promo2SinceYear': '0', 'Promo2': '0', 'Promo2SinceWeek': '0', 'CompetitionOpenSinceYear': '2008', 'CompetitionDistance': '1270', 'Store': '1', 'State': 'HE', 'Assortment': 'a', 'StoreType': 'c', 'CompetitionOpenSinceMonth': '9'}, {'PromoInterval': 'Jan,Apr,Jul,Oct', 'Promo2SinceYear': '2010', 'Promo2': '1', 'Promo2SinceWeek': '13', 'CompetitionOpenSinceYear': '2007', 'CompetitionDistance': '570', 'Store': '2', 'State': 'TH', 'Assortment': 'a', 'StoreType': 'a', 'CompetitionOpenSinceMonth': '11'}]\n",
      "\n",
      "This is prepare_data file.\n"
     ]
    }
   ],
   "source": [
    "\n",
    "import py.prepare_data as data\n",
    "\n",
    "print(data.toString())"
   ]
  },
  {
   "cell_type": "code",
   "execution_count": null,
   "metadata": {
    "collapsed": true
   },
   "outputs": [],
   "source": []
  },
  {
   "cell_type": "markdown",
   "metadata": {
    "collapsed": true
   },
   "source": [
    "## 2.基准模型"
   ]
  },
  {
   "cell_type": "code",
   "execution_count": null,
   "metadata": {
    "collapsed": true
   },
   "outputs": [],
   "source": [
    "\n"
   ]
  },
  {
   "cell_type": "code",
   "execution_count": 2,
   "metadata": {},
   "outputs": [
    {
     "name": "stdout",
     "output_type": "stream",
     "text": [
      "2017-08-08\n",
      "<class 'datetime.date'>\n",
      "<class 'time.struct_time'>\n",
      "time.struct_time(tm_year=2017, tm_mon=8, tm_mday=8, tm_hour=0, tm_min=0, tm_sec=0, tm_wday=1, tm_yday=220, tm_isdst=-1)\n",
      "2017\n"
     ]
    }
   ],
   "source": [
    "import datetime\n",
    "import time as tm\n",
    "\n",
    "time = datetime.date(2017,8,8)\n",
    "\n",
    "print(time)\n",
    "print(type(time))\n",
    "\n",
    "time2 = tm.strptime(\"2017-08-08\",\"%Y-%m-%d\")\n",
    "print(type(time2))\n",
    "print(time2)\n",
    "print(time2.tm_year)"
   ]
  },
  {
   "cell_type": "code",
   "execution_count": null,
   "metadata": {
    "collapsed": true
   },
   "outputs": [],
   "source": []
  }
 ],
 "metadata": {
  "kernelspec": {
   "display_name": "Python 3",
   "language": "python",
   "name": "python3"
  },
  "language_info": {
   "codemirror_mode": {
    "name": "ipython",
    "version": 3
   },
   "file_extension": ".py",
   "mimetype": "text/x-python",
   "name": "python",
   "nbconvert_exporter": "python",
   "pygments_lexer": "ipython3",
   "version": "3.5.3"
  }
 },
 "nbformat": 4,
 "nbformat_minor": 2
}
