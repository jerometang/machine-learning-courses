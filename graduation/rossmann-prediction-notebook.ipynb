{
 "cells": [
  {
   "cell_type": "markdown",
   "metadata": {
    "deletable": true,
    "editable": true
   },
   "source": [
    "# Rossmann销售预测\n",
    "Kaggle项目地址：https://www.kaggle.com/c/rossmann-store-sales"
   ]
  },
  {
   "cell_type": "markdown",
   "metadata": {
    "deletable": true,
    "editable": true
   },
   "source": [
    "## 1.数据分析"
   ]
  },
  {
   "cell_type": "markdown",
   "metadata": {
    "deletable": true,
    "editable": true
   },
   "source": [
    "### 导入数据、预处理"
   ]
  },
  {
   "cell_type": "code",
   "execution_count": 1,
   "metadata": {
    "collapsed": false,
    "deletable": true,
    "editable": true
   },
   "outputs": [
    {
     "name": "stdout",
     "output_type": "stream",
     "text": [
      "Titles:\n",
      "['Store', 'DayOfWeek', 'Date', 'Sales', 'Customers', 'Open', 'Promo', 'StateHoliday', 'SchoolHoliday']\n"
     ]
    },
    {
     "ename": "AttributeError",
     "evalue": "'time.struct_time' object has no attribute 'time'",
     "output_type": "error",
     "traceback": [
      "\u001b[1;31m---------------------------------------------------------------------------\u001b[0m",
      "\u001b[1;31mAttributeError\u001b[0m                            Traceback (most recent call last)",
      "\u001b[1;32m<ipython-input-1-bc69fe68ef7e>\u001b[0m in \u001b[0;36m<module>\u001b[1;34m()\u001b[0m\n\u001b[0;32m      1\u001b[0m \u001b[1;33m\u001b[0m\u001b[0m\n\u001b[1;32m----> 2\u001b[1;33m \u001b[1;32mimport\u001b[0m \u001b[0mpy\u001b[0m\u001b[1;33m.\u001b[0m\u001b[0mprepare_data\u001b[0m \u001b[1;32mas\u001b[0m \u001b[0mdata\u001b[0m\u001b[1;33m\u001b[0m\u001b[0m\n\u001b[0m\u001b[0;32m      3\u001b[0m \u001b[1;33m\u001b[0m\u001b[0m\n\u001b[0;32m      4\u001b[0m \u001b[0mprint\u001b[0m\u001b[1;33m(\u001b[0m\u001b[0mdata\u001b[0m\u001b[1;33m.\u001b[0m\u001b[0mtoString\u001b[0m\u001b[1;33m(\u001b[0m\u001b[1;33m)\u001b[0m\u001b[1;33m)\u001b[0m\u001b[1;33m\u001b[0m\u001b[0m\n",
      "\u001b[1;32mD:\\Workspace\\Udacity\\machine-learning-udacity\\graduation\\py\\prepare_data.py\u001b[0m in \u001b[0;36m<module>\u001b[1;34m()\u001b[0m\n\u001b[0;32m     63\u001b[0m     \u001b[0mdata\u001b[0m \u001b[1;33m=\u001b[0m \u001b[0mcsv\u001b[0m\u001b[1;33m.\u001b[0m\u001b[0mreader\u001b[0m\u001b[1;33m(\u001b[0m\u001b[0mcsvfile\u001b[0m\u001b[1;33m,\u001b[0m \u001b[0mdelimiter\u001b[0m\u001b[1;33m=\u001b[0m\u001b[1;34m','\u001b[0m\u001b[1;33m)\u001b[0m\u001b[1;33m\u001b[0m\u001b[0m\n\u001b[0;32m     64\u001b[0m     \u001b[1;32mwith\u001b[0m \u001b[0mopen\u001b[0m\u001b[1;33m(\u001b[0m\u001b[1;34m'train_data.pickle'\u001b[0m\u001b[1;33m,\u001b[0m \u001b[1;34m'wb'\u001b[0m\u001b[1;33m)\u001b[0m \u001b[1;32mas\u001b[0m \u001b[0mf\u001b[0m\u001b[1;33m:\u001b[0m\u001b[1;33m\u001b[0m\u001b[0m\n\u001b[1;32m---> 65\u001b[1;33m         \u001b[0mdata\u001b[0m \u001b[1;33m=\u001b[0m \u001b[0mcsv2dictsWithSplitDate\u001b[0m\u001b[1;33m(\u001b[0m\u001b[0mdata\u001b[0m\u001b[1;33m)\u001b[0m\u001b[1;33m\u001b[0m\u001b[0m\n\u001b[0m\u001b[0;32m     66\u001b[0m         \u001b[1;31m# flatDate(data)\u001b[0m\u001b[1;33m\u001b[0m\u001b[1;33m\u001b[0m\u001b[0m\n\u001b[0;32m     67\u001b[0m         \u001b[0mdata\u001b[0m \u001b[1;33m=\u001b[0m \u001b[0mdata\u001b[0m\u001b[1;33m[\u001b[0m\u001b[1;33m:\u001b[0m\u001b[1;33m:\u001b[0m\u001b[1;33m-\u001b[0m\u001b[1;36m1\u001b[0m\u001b[1;33m]\u001b[0m\u001b[1;33m\u001b[0m\u001b[0m\n",
      "\u001b[1;32mD:\\Workspace\\Udacity\\machine-learning-udacity\\graduation\\py\\prepare_data.py\u001b[0m in \u001b[0;36mcsv2dictsWithSplitDate\u001b[1;34m(csvfile)\u001b[0m\n\u001b[0;32m     35\u001b[0m         \u001b[0mdata\u001b[0m\u001b[1;33m.\u001b[0m\u001b[0mappend\u001b[0m\u001b[1;33m(\u001b[0m\u001b[0mitem\u001b[0m\u001b[1;33m)\u001b[0m\u001b[1;33m\u001b[0m\u001b[0m\n\u001b[0;32m     36\u001b[0m         \u001b[0mitem\u001b[0m\u001b[1;33m[\u001b[0m\u001b[1;34m\"tm_date\"\u001b[0m\u001b[1;33m]\u001b[0m \u001b[1;33m=\u001b[0m \u001b[0mtm\u001b[0m\u001b[1;33m.\u001b[0m\u001b[0mstrptime\u001b[0m\u001b[1;33m(\u001b[0m\u001b[0mrow\u001b[0m\u001b[1;33m[\u001b[0m\u001b[1;36m2\u001b[0m\u001b[1;33m]\u001b[0m\u001b[1;33m,\u001b[0m\u001b[1;34m\"%Y-%m-%d\"\u001b[0m\u001b[1;33m)\u001b[0m\u001b[1;33m\u001b[0m\u001b[0m\n\u001b[1;32m---> 37\u001b[1;33m         \u001b[0mitem\u001b[0m\u001b[1;33m[\u001b[0m\u001b[1;34m\"tm_time\"\u001b[0m\u001b[1;33m]\u001b[0m \u001b[1;33m=\u001b[0m \u001b[0mitem\u001b[0m\u001b[1;33m[\u001b[0m\u001b[1;34m\"tm_date\"\u001b[0m\u001b[1;33m]\u001b[0m\u001b[1;33m.\u001b[0m\u001b[0mtime\u001b[0m\u001b[1;33m(\u001b[0m\u001b[1;33m)\u001b[0m\u001b[1;33m\u001b[0m\u001b[0m\n\u001b[0m\u001b[0;32m     38\u001b[0m     \u001b[1;32mreturn\u001b[0m \u001b[0mdata\u001b[0m\u001b[1;33m\u001b[0m\u001b[0m\n\u001b[0;32m     39\u001b[0m \u001b[1;33m\u001b[0m\u001b[0m\n",
      "\u001b[1;31mAttributeError\u001b[0m: 'time.struct_time' object has no attribute 'time'"
     ]
    }
   ],
   "source": [
    "\n",
    "import py.prepare_data as data\n",
    "\n",
    "print(data.toString())"
   ]
  },
  {
   "cell_type": "code",
   "execution_count": null,
   "metadata": {
    "collapsed": true,
    "deletable": true,
    "editable": true
   },
   "outputs": [],
   "source": []
  },
  {
   "cell_type": "markdown",
   "metadata": {
    "collapsed": true,
    "deletable": true,
    "editable": true
   },
   "source": [
    "## 2.基准模型"
   ]
  },
  {
   "cell_type": "code",
   "execution_count": null,
   "metadata": {
    "collapsed": true,
    "deletable": true,
    "editable": true
   },
   "outputs": [],
   "source": [
    "\n"
   ]
  },
  {
   "cell_type": "code",
   "execution_count": null,
   "metadata": {
    "collapsed": true,
    "deletable": true,
    "editable": true
   },
   "outputs": [],
   "source": []
  },
  {
   "cell_type": "markdown",
   "metadata": {
    "deletable": true,
    "editable": true
   },
   "source": [
    "## BP神经网络的实现\n",
    "### 数据预处理"
   ]
  },
  {
   "cell_type": "code",
   "execution_count": 47,
   "metadata": {
    "collapsed": false,
    "deletable": true,
    "editable": true
   },
   "outputs": [
    {
     "name": "stdout",
     "output_type": "stream",
     "text": [
      "   Store       Date  Sales  Customers  Open  Promo StateHoliday  SchoolHoliday\n",
      "0      1 2015-07-31   5263        555     1      1            0              1\n",
      "1      2 2015-07-31   6064        625     1      1            0              1\n",
      "2      3 2015-07-31   8314        821     1      1            0              1\n",
      "3      4 2015-07-31  13995       1498     1      1            0              1\n",
      "4      5 2015-07-31   4822        559     1      1            0              1\n",
      "<class 'pandas.tslib.Timestamp'>\n",
      "              CS StoreType Assortment  CompetitionDistance\n",
      "Store                                                     \n",
      "1     2008-09-01         c          a               1270.0\n",
      "2     2007-11-01         a          a                570.0\n",
      "3     2006-12-01         a          a              14130.0\n",
      "<class 'pandas.tslib.Timestamp'>\n",
      "<pandas.core.groupby.DataFrameGroupBy object at 0x000000000DB45D30>\n"
     ]
    }
   ],
   "source": [
    "# Load data\n",
    "import py.helper as helper\n",
    "import pandas as pd\n",
    "import numpy as np\n",
    "import datetime\n",
    "\n",
    "# Sales Data\n",
    "all_data_file = \"./data/train.csv\"\n",
    "data = pd.read_csv(all_data_file, dtype={\"StateHoliday\":np.str},\n",
    "                  parse_dates=['Date'])\n",
    "# Format Sales data\n",
    "data.drop(['DayOfWeek'],axis = 1, inplace = True)\n",
    "data.fillna('0')\n",
    "\n",
    "\n",
    "# Store info data\n",
    "def date_parse(dates):\n",
    "    #helper.debug(dates)\n",
    "    date_time = str(dates).split(\" \")\n",
    "    #helper.debug(date_time)\n",
    "    if(date_time[0] == 'nan'):\n",
    "        date_time[0] = '2018'\n",
    "        date_time[1] = '01'\n",
    "    \n",
    "    return pd.datetime.strptime(\"{0} {1} 01\".format(date_time[0], date_time[1]),'%Y %m %d')\n",
    "\n",
    "\n",
    "store_info_file = \"./data/store.csv\"\n",
    "store_info = pd.read_csv(store_info_file, index_col = \"Store\", \n",
    "                         usecols = [\"Store\",\"StoreType\", \"Assortment\",\"CompetitionDistance\"\n",
    "                                  , \"CompetitionOpenSinceYear\",\"CompetitionOpenSinceMonth\"],\n",
    "                         parse_dates = {'CS':['CompetitionOpenSinceYear','CompetitionOpenSinceMonth']},\n",
    "                        date_parser= date_parse)\n",
    "store_info.fillna('0')\n",
    "\n",
    "\n",
    "print (data[:5])\n",
    "print type(data.iloc[0,1])\n",
    "\n",
    "print store_info[:3]\n",
    "print type(store_info.iloc[0,0])\n",
    "\n",
    "grouped = data.groupby(data['Date'].apply(lambda x:x.month))\n",
    "print grouped\n",
    "#grouped.aggregate(np.sum)"
   ]
  },
  {
   "cell_type": "code",
   "execution_count": null,
   "metadata": {
    "collapsed": true,
    "deletable": true,
    "editable": true
   },
   "outputs": [],
   "source": []
  },
  {
   "cell_type": "code",
   "execution_count": null,
   "metadata": {
    "collapsed": true,
    "deletable": true,
    "editable": true
   },
   "outputs": [],
   "source": []
  },
  {
   "cell_type": "code",
   "execution_count": null,
   "metadata": {
    "collapsed": true,
    "deletable": true,
    "editable": true
   },
   "outputs": [],
   "source": []
  },
  {
   "cell_type": "code",
   "execution_count": 21,
   "metadata": {
    "collapsed": false,
    "deletable": true,
    "editable": true
   },
   "outputs": [
    {
     "name": "stdout",
     "output_type": "stream",
     "text": [
      "2017-08-09\n",
      "<type 'datetime.date'>\n",
      "<type 'time.struct_time'>\n",
      "time.struct_time(tm_year=2017, tm_mon=8, tm_mday=8, tm_hour=0, tm_min=0, tm_sec=0, tm_wday=1, tm_yday=220, tm_isdst=-1)\n",
      "2017\n",
      "2018 02 01\n"
     ]
    }
   ],
   "source": [
    "import datetime\n",
    "import time as tm\n",
    "\n",
    "time = datetime.date(2017,8,9)\n",
    "\n",
    "print(time)\n",
    "print(type(time))\n",
    "\n",
    "time2 = tm.strptime(\"2017-08-08\",\"%Y-%m-%d\")\n",
    "print(type(time2))\n",
    "print(time2)\n",
    "print(time2.tm_year)\n",
    "\n",
    "print \"{0} {1} 01\".format('2018','02')"
   ]
  },
  {
   "cell_type": "code",
   "execution_count": null,
   "metadata": {
    "collapsed": true,
    "deletable": true,
    "editable": true
   },
   "outputs": [],
   "source": []
  }
 ],
 "metadata": {
  "kernelspec": {
   "display_name": "Python 2",
   "language": "python",
   "name": "python2"
  },
  "language_info": {
   "codemirror_mode": {
    "name": "ipython",
    "version": 2
   },
   "file_extension": ".py",
   "mimetype": "text/x-python",
   "name": "python",
   "nbconvert_exporter": "python",
   "pygments_lexer": "ipython2",
   "version": "2.7.13"
  }
 },
 "nbformat": 4,
 "nbformat_minor": 2
}
